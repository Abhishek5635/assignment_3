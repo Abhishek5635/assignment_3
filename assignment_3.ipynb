{
  "nbformat": 4,
  "nbformat_minor": 0,
  "metadata": {
    "colab": {
      "provenance": []
    },
    "kernelspec": {
      "name": "python3",
      "display_name": "Python 3"
    },
    "language_info": {
      "name": "python"
    }
  },
  "cells": [
    {
      "cell_type": "markdown",
      "source": [
        "1. Why are functions advantageous to have in your programs?"
      ],
      "metadata": {
        "id": "-RJ1i7EFsoJ6"
      }
    },
    {
      "cell_type": "code",
      "execution_count": null,
      "metadata": {
        "id": "uOy0IlVKsi50"
      },
      "outputs": [],
      "source": [
        "1) Reusibilty : the code for function can be write once and it can call multiple time whenever user need\n",
        "2) Testing : fuction can be use to test a required code\n",
        "3) Incapsulation : fuction can incapsulate data  and functionality also it gives limited accessibility to certain piece of code."
      ]
    },
    {
      "cell_type": "markdown",
      "source": [
        "2. When does the code in a function run: when it&#39;s specified or when it&#39;s called?"
      ],
      "metadata": {
        "id": "44d7U7zsuQ_K"
      }
    },
    {
      "cell_type": "code",
      "source": [
        "The code in function run when a fuction is called not when it is specified.\n",
        "The code fuction is written and it use multiple time when the function is called."
      ],
      "metadata": {
        "id": "uG-HzcZMwCAo"
      },
      "execution_count": null,
      "outputs": []
    },
    {
      "cell_type": "markdown",
      "source": [
        "3. What statement creates a function?"
      ],
      "metadata": {
        "id": "37WMzmfXwb8l"
      }
    },
    {
      "cell_type": "code",
      "source": [
        "syntax of function:\n",
        "\n",
        "def function_name():\n",
        "  return\n",
        "\n",
        "function starts with def keyword which is use to define keyword\n",
        "then we need to define the name of the function \n",
        "atlast we have to return the value of function."
      ],
      "metadata": {
        "id": "7AAJ3ShIwcu2"
      },
      "execution_count": null,
      "outputs": []
    },
    {
      "cell_type": "markdown",
      "source": [
        "4. What is the difference between a function and a function call?"
      ],
      "metadata": {
        "id": "61jvQjOuxi9T"
      }
    },
    {
      "cell_type": "code",
      "source": [
        "function : function is piece of code which use to perform certain task\n",
        "           It is called from other part of the code.\n",
        "\n",
        "fuction call: function call is calling or invoking the function when we need to perform certain task on the function."
      ],
      "metadata": {
        "id": "drHm_ox2yKwj"
      },
      "execution_count": null,
      "outputs": []
    },
    {
      "cell_type": "markdown",
      "source": [
        "5. How many global scopes are there in a Python program? How many local scopes?"
      ],
      "metadata": {
        "id": "97-FcjirysNB"
      }
    },
    {
      "cell_type": "code",
      "source": [
        "There is only one global scope in python\n",
        "global scope means a defined veriable of mode can be accessed everywhere in the code\n",
        "\n",
        "Local scopes depends on function call\n",
        "if there is two function call then there will be three local scopes."
      ],
      "metadata": {
        "id": "On2CUcZFzJoX"
      },
      "execution_count": null,
      "outputs": []
    },
    {
      "cell_type": "markdown",
      "source": [
        "6. What happens to variables in a local scope when the function call returns?"
      ],
      "metadata": {
        "id": "MoP7fX8Dz5tu"
      }
    },
    {
      "cell_type": "code",
      "source": [
        "when the function call returns then the local scope and the veriable inside the function is destroyed. \n",
        "Because  local scope exists only during the execution of the function and is destroyed when the function completes and same holds for veriable."
      ],
      "metadata": {
        "id": "9PKS6toKz9EI"
      },
      "execution_count": null,
      "outputs": []
    },
    {
      "cell_type": "markdown",
      "source": [
        "7. What is the concept of a return value? Is it possible to have a return value in an expression?"
      ],
      "metadata": {
        "id": "jUky7f-YVuYz"
      }
    },
    {
      "cell_type": "code",
      "source": [
        "when the function is called it gives some result or output and that result is known as return value\n",
        "expression is piece of code which produces a value. when function called it is treated as expresion so\n",
        "it is possible to have return value in an expression."
      ],
      "metadata": {
        "id": "SUOfpDDAWIlq"
      },
      "execution_count": null,
      "outputs": []
    },
    {
      "cell_type": "markdown",
      "source": [
        "8. If a function does not have a return statement, what is the return value of a call to that function?"
      ],
      "metadata": {
        "id": "f5Ta3anlaaxv"
      }
    },
    {
      "cell_type": "code",
      "source": [
        "the return value of that function will be none."
      ],
      "metadata": {
        "id": "wJcMhVdDapvR"
      },
      "execution_count": null,
      "outputs": []
    },
    {
      "cell_type": "markdown",
      "source": [
        "9. How do you make a function variable refer to the global variable?"
      ],
      "metadata": {
        "id": "Gny3Hhxiaz5c"
      }
    },
    {
      "cell_type": "code",
      "source": [
        "from os import name\n",
        "when we add global keyword refering local veriable inside the function then loacal veriable will act as global veriable\n",
        "\n",
        "name = \"abhi\" # this is global veriable\n",
        "def func():\n",
        "  global name\n",
        "  name = \"janhavi\" \n",
        "  return name\n",
        "\n",
        "print(func())\n",
        "print(name)"
      ],
      "metadata": {
        "colab": {
          "base_uri": "https://localhost:8080/"
        },
        "id": "nPL_2kyka3_c",
        "outputId": "7a3e4f58-6b8e-4072-b7f0-cd3733627c36"
      },
      "execution_count": 4,
      "outputs": [
        {
          "output_type": "stream",
          "name": "stdout",
          "text": [
            "janhavi\n",
            "janhavi\n"
          ]
        }
      ]
    },
    {
      "cell_type": "markdown",
      "source": [
        "10. What is the data type of None?"
      ],
      "metadata": {
        "id": "3WXxV6NAdSOM"
      }
    },
    {
      "cell_type": "code",
      "source": [
        "when a fuction or object does not return any value then it is known as nonetype. \n",
        "It is not mean empy string or list or zero. it simply  means it having nothing as a value.\n",
        "type(None) = Nonetype"
      ],
      "metadata": {
        "id": "CGTzsOlAcqb3"
      },
      "execution_count": null,
      "outputs": []
    },
    {
      "cell_type": "markdown",
      "source": [
        "What does the sentence import areallyourpetsnamederic do?"
      ],
      "metadata": {
        "id": "Li8GNUiYeiNH"
      }
    },
    {
      "cell_type": "code",
      "source": [
        " import areallyourpetsnamederic  means it can able to access the module or packages of the module areallyourpetsnamederi.\n",
        " If the module is available then it is able to access the python functionality other it will give module not found error."
      ],
      "metadata": {
        "id": "zoe2cWe_bkNW"
      },
      "execution_count": null,
      "outputs": []
    },
    {
      "cell_type": "markdown",
      "source": [
        "12. If you had a bacon() feature in a spam module, what would you call it after importing spam?"
      ],
      "metadata": {
        "id": "nYEV3P5mfSny"
      }
    },
    {
      "cell_type": "code",
      "source": [
        "import spam \n",
        "spam.bacoon()"
      ],
      "metadata": {
        "id": "gjuY0DxFfcdi"
      },
      "execution_count": null,
      "outputs": []
    },
    {
      "cell_type": "markdown",
      "source": [
        "13. What can you do to save a programme from crashing if it encounters an error?\n"
      ],
      "metadata": {
        "id": "liEmD_S1f8qQ"
      }
    },
    {
      "cell_type": "code",
      "source": [
        "1) we can use try and except block to avoid crashing of code\n",
        "2) we can use if else statment if thers is chances of code crashing\n",
        "      x= 0\n",
        "      y=1\n",
        "   eg. if x!=0:\n",
        "         y/x\n",
        "       else :\n",
        "         return None\n"
      ],
      "metadata": {
        "id": "umU9SzNgf99y"
      },
      "execution_count": null,
      "outputs": []
    },
    {
      "cell_type": "markdown",
      "source": [
        "14. What is the purpose of the try clause? What is the purpose of the except clause?"
      ],
      "metadata": {
        "id": "yHr-kgv-guh9"
      }
    },
    {
      "cell_type": "code",
      "source": [
        "try : try block is used to test the exception creating code. if the exception happens in the code \n",
        "      then it stops the excution of try block.\n",
        "\n",
        "except: If exception occurs inside the code then it get handled by exception block."
      ],
      "metadata": {
        "id": "RhmUeL9Dg9rB"
      },
      "execution_count": null,
      "outputs": []
    }
  ]
}